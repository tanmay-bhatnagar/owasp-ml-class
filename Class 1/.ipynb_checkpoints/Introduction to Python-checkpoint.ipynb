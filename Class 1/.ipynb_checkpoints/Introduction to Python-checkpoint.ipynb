{
 "cells": [
  {
   "cell_type": "code",
   "execution_count": 27,
   "metadata": {},
   "outputs": [
    {
     "name": "stdout",
     "output_type": "stream",
     "text": [
      "000110.0\n",
      "<type 'str'>\n",
      "now it's a string\n",
      "<type 'str'>\n",
      "\n",
      "This is a multi\n",
      "line comment\n",
      "\n",
      "97 b\n",
      "my name is:10shubham\n",
      "17\n",
      "<method-wrapper '__len__' of str object at 0x7f62381b6298>\n",
      "################\n"
     ]
    }
   ],
   "source": [
    "# Variables, Data types\n",
    "new_var = \"\"\"\n",
    "This is a multi\n",
    "line comment\n",
    "\"\"\"\n",
    "my_var = 1.1e2\n",
    "my_var = str(my_var)\n",
    "\n",
    "\n",
    "print type(my_var)\n",
    "\n",
    "my_var = \"now it's a string\"\n",
    "\n",
    "print my_var\n",
    "print type(my_var)\n",
    "print new_var\n",
    "\n",
    "print ord('a'), chr(98)\n",
    "\n",
    "print 'my name is:'+str(10)+'shubham'\n",
    "print len(my_var)\n",
    "\n",
    "print my_var.__len__\n",
    "\n",
    "print '#'*(2**4)"
   ]
  },
  {
   "cell_type": "code",
   "execution_count": 3,
   "metadata": {},
   "outputs": [
    {
     "data": {
      "text/plain": [
       "float"
      ]
     },
     "execution_count": 3,
     "metadata": {},
     "output_type": "execute_result"
    }
   ],
   "source": [
    "type(11e2)\n"
   ]
  },
  {
   "cell_type": "code",
   "execution_count": 4,
   "metadata": {},
   "outputs": [
    {
     "data": {
      "text/plain": [
       "float"
      ]
     },
     "execution_count": 4,
     "metadata": {},
     "output_type": "execute_result"
    }
   ],
   "source": [
    "type(1.1e2)"
   ]
  },
  {
   "cell_type": "code",
   "execution_count": 61,
   "metadata": {},
   "outputs": [
    {
     "name": "stdout",
     "output_type": "stream",
     "text": [
      "[2, 5, 2, 4]\n",
      "9\n",
      "[0, 1, 2, 2, 3, 4, 4, 5, 7]\n",
      "[1, 2, 3, 5, 4, 2, 7, 4, 0]\n",
      "None\n",
      "[0, 1, 2, 2, 3, 4, 4, 5, 7]\n"
     ]
    }
   ],
   "source": [
    "# Lists\n",
    "# my_list = list()\n",
    "# my_list = [1, 1.1, 'abc', ['nested_list', '12', 34]]\n",
    "my_list = [1, 2, 3, 5, 4, 2, 7, 4, 0]\n",
    "\n",
    "print my_list[1::2]\n",
    "print len(my_list)\n",
    "\n",
    "# sorting\n",
    "\n",
    "a = sorted(my_list)#, reverse=True)\n",
    "print a\n",
    "print my_list\n",
    "\n",
    "q = my_list.sort()\n",
    "print q\n",
    "print my_list\n"
   ]
  },
  {
   "cell_type": "code",
   "execution_count": 93,
   "metadata": {},
   "outputs": [
    {
     "name": "stdout",
     "output_type": "stream",
     "text": [
      "[[1, 1], [3, 2], [1, 0], [-1, 4], [-3, 2]]\n",
      "[[1, 0], [1, 1], [-3, 2], [3, 2], [-1, 4]]\n",
      "[1, 2, 3, 'a', 'b', 1]\n",
      "(1, 2, 3)\n",
      "(4, '3')\n",
      "--------------------------------------------------------------------------------\n",
      "set([1, 2, 4, 5, 6, 9])\n",
      "set([0, 2, 3, 5, 7, 8, -1])\n",
      "False\n"
     ]
    }
   ],
   "source": [
    "l = [[1, 1], [3, 2], [1, 0], [-1, 4], [-3, 2]]\n",
    "print l\n",
    "\n",
    "print sorted(l, key=lambda x: [x[1], x[0]])\n",
    "#Lambda function is a function without a name\n",
    "l = [1, 2, 3] + ['a', 'b']\n",
    "\n",
    "l.append(1)\n",
    "print l\n",
    "\n",
    "# Tuples\n",
    "\n",
    "a = (1, 2, 3)\n",
    "b = (4, 2, '3')\n",
    "print a\n",
    "print b[::2]\n",
    "\n",
    "print '-'*80\n",
    "# a.append(1)\n",
    "R = set(range(100))\n",
    "p = set((1, 2, 5, 4, 6, 9))\n",
    "q = set([3, 7, 5, 8, 0, -1, 2, 3])\n",
    "\n",
    "print p\n",
    "print q\n",
    "\n",
    "print q.issubset(R)"
   ]
  },
  {
   "cell_type": "code",
   "execution_count": 101,
   "metadata": {},
   "outputs": [
    {
     "name": "stdout",
     "output_type": "stream",
     "text": [
      "val\n",
      "['k2', '3', 3]\n",
      "[['a', 1], 'val', 'val']\n"
     ]
    }
   ],
   "source": [
    "# DICTIONARY\n",
    "d = {\n",
    "    3: 'val',\n",
    "    'k2': ['a', 1],\n",
    "    '3': 'val'\n",
    "}\n",
    "\n",
    "print d[3]\n",
    "print d.keys()\n",
    "print d.values()\n",
    "# TODO: json parsing"
   ]
  },
  {
   "cell_type": "code",
   "execution_count": 133,
   "metadata": {},
   "outputs": [
    {
     "name": "stdout",
     "output_type": "stream",
     "text": [
      "3.46410161514\n",
      "1\n",
      "2\n",
      "3\n",
      "4\n",
      "5\n",
      "6\n",
      "7\n",
      "8\n",
      "9\n",
      "10\n",
      "11\n"
     ]
    }
   ],
   "source": [
    "import math as m\n",
    "# from math import sqrt, log, tan\n",
    "\n",
    "print m.sqrt(12)\n",
    "\n",
    "# TODO: packages\n",
    "\n",
    "for ix in range(1, 12):\n",
    "    print ix"
   ]
  },
  {
   "cell_type": "code",
   "execution_count": 130,
   "metadata": {},
   "outputs": [
    {
     "name": "stdout",
     "output_type": "stream",
     "text": [
      "--------------------------------------------------------------------------------\n",
      "1\n",
      "2\n",
      "Fizz\n",
      "4\n",
      "Buzz\n",
      "Fizz\n",
      "7\n",
      "8\n",
      "Fizz\n",
      "Buzz\n",
      "11\n",
      "Fizz\n",
      "13\n",
      "14\n",
      "FizzBuzz\n",
      "16\n",
      "17\n",
      "Fizz\n",
      "19\n",
      "================================================================================\n",
      "0\n",
      "1\n",
      "2\n",
      "3\n",
      "4\n",
      "5\n",
      "6\n",
      "7\n",
      "8\n",
      "9\n"
     ]
    }
   ],
   "source": [
    "'''s = 'this is a string'\n",
    "for x in range(len(s)):\n",
    "    if s[x] == 't':\n",
    "        pass\n",
    "    else:\n",
    "        print x\n",
    "#1, 2, 3, 4, 5'''\n",
    "# 1, 2, fizz, 4, buzz\n",
    "print '-'*80\n",
    "# FizzBuzz\n",
    "q = range(1, 20)\n",
    "for ix in q:\n",
    "    if ix%3 == 0:\n",
    "        if ix%5 == 0:\n",
    "            print \"FizzBuzz\"\n",
    "        else:\n",
    "            print \"Fizz\"\n",
    "    elif ix%5 == 0:\n",
    "        print \"Buzz\"\n",
    "    else:\n",
    "        print ix\n",
    "\n",
    "print '='*80\n",
    "# while loop\n",
    "x = 0\n",
    "while x < 10:\n",
    "    print x\n",
    "    x += 1\n",
    "    "
   ]
  },
  {
   "cell_type": "code",
   "execution_count": 9,
   "metadata": {},
   "outputs": [
    {
     "name": "stdout",
     "output_type": "stream",
     "text": [
      "(2, 1, 4, 5, 2, 3, 5, 10, 4, -100)\n",
      "a 10\n",
      "b 20\n",
      "abc 100\n",
      "{'a': 10, 'b': 20, 'abc': 100}\n"
     ]
    }
   ],
   "source": [
    "def f(*args , **kwargs):\n",
    "    print (args)\n",
    "    for key , val in kwargs.items():\n",
    "        print(key,val)\n",
    "    print (kwargs)\n",
    "\n",
    "f(2, 1, 4, 5, 2, 3, 5, 10, 4, -100, a=10, b=20, abc=100)\n"
   ]
  },
  {
   "cell_type": "code",
   "execution_count": 177,
   "metadata": {},
   "outputs": [
    {
     "name": "stdout",
     "output_type": "stream",
     "text": [
      "120\n",
      "10\n",
      "1440000\n"
     ]
    }
   ],
   "source": [
    "# classes and OOP\n",
    "\n",
    "class MyClass:\n",
    "    # x = 100\n",
    "    def __init__(self, x=10):\n",
    "        self.x = x\n",
    "    \n",
    "    def square(self):\n",
    "        self.x = self.x**2\n",
    "    \n",
    "    def multiply(self, q):\n",
    "        return self.x*q\n",
    "    \n",
    "    def mul_sq(self, q):\n",
    "        self.x = self.multiply(q)\n",
    "        self.square()\n",
    "        return self.x\n",
    "\n",
    "a = MyClass(120)\n",
    "b = MyClass()\n",
    "\n",
    "print a.x\n",
    "print b.x\n",
    "print a.mul_sq(10)"
   ]
  },
  {
   "cell_type": "code",
   "execution_count": null,
   "metadata": {
    "collapsed": true
   },
   "outputs": [],
   "source": [
    "class Dog:\n",
    "\n",
    "    tricks = []             # mistaken use of a class variable\n",
    "\n",
    "    def __init__(self, name):\n",
    "        self.name = name\n",
    "\n",
    "    def add_trick(self, trick):\n",
    "        self.tricks.append(trick)\n",
    "d = Dog('Fido')\n",
    "e = Dog('Buddy')\n",
    "d.add_trick('roll over')\n",
    "e.add_trick('play dead')\n",
    "d.tricks                # unexpectedly shared by all dogs\n",
    "['roll over', 'play dead']"
   ]
  },
  {
   "cell_type": "code",
   "execution_count": null,
   "metadata": {
    "collapsed": true
   },
   "outputs": [],
   "source": []
  },
  {
   "cell_type": "code",
   "execution_count": null,
   "metadata": {
    "collapsed": true
   },
   "outputs": [],
   "source": []
  }
 ],
 "metadata": {
  "kernelspec": {
   "display_name": "Python 3",
   "language": "python",
   "name": "python3"
  },
  "language_info": {
   "codemirror_mode": {
    "name": "ipython",
    "version": 3
   },
   "file_extension": ".py",
   "mimetype": "text/x-python",
   "name": "python",
   "nbconvert_exporter": "python",
   "pygments_lexer": "ipython3",
   "version": "3.6.5"
  }
 },
 "nbformat": 4,
 "nbformat_minor": 2
}
